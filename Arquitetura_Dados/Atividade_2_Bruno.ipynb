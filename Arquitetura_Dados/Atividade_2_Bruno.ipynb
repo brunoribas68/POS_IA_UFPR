{
  "nbformat": 4,
  "nbformat_minor": 0,
  "metadata": {
    "colab": {
      "provenance": [],
      "include_colab_link": true
    },
    "kernelspec": {
      "name": "python3",
      "display_name": "Python 3"
    },
    "language_info": {
      "name": "python"
    }
  },
  "cells": [
    {
      "cell_type": "markdown",
      "metadata": {
        "id": "view-in-github",
        "colab_type": "text"
      },
      "source": [
        "<a href=\"https://colab.research.google.com/github/brunoribas68/POS_IA_UFPR/blob/main/Arquitetura_Dados/Atividade_2_Bruno.ipynb\" target=\"_parent\"><img src=\"https://colab.research.google.com/assets/colab-badge.svg\" alt=\"Open In Colab\"/></a>"
      ]
    },
    {
      "cell_type": "markdown",
      "source": [],
      "metadata": {
        "id": "ugiWUTjY71g4"
      }
    },
    {
      "cell_type": "markdown",
      "source": [
        "# Carregar os dados e Bibliotecas"
      ],
      "metadata": {
        "id": "XGNsnyyK_fpy"
      }
    },
    {
      "cell_type": "code",
      "source": [
        "import pandas as pd\n",
        "import numpy as np\n",
        "from sklearn.model_selection import train_test_split\n",
        "from sklearn.preprocessing import StandardScaler\n",
        "from sklearn.svm import SVC\n",
        "from sklearn.metrics import confusion_matrix, classification_report\n",
        "import seaborn as sns\n",
        "import matplotlib.pyplot as plt\n",
        "from sklearn.metrics import accuracy_score\n",
        "\n",
        "data = pd.read_csv(\"sample_data/Immunotherapy.csv\",sep=\";\")\n"
      ],
      "metadata": {
        "id": "PYIRQToh71yM"
      },
      "execution_count": 97,
      "outputs": []
    },
    {
      "cell_type": "markdown",
      "source": [
        "# Separar características e rótulos"
      ],
      "metadata": {
        "id": "OiCOlx3I_kom"
      }
    },
    {
      "cell_type": "code",
      "source": [
        "X = data.drop(columns=['Result_of_Treatment'])\n",
        "y = data['Result_of_Treatment']"
      ],
      "metadata": {
        "id": "UmFjNHzY_63s"
      },
      "execution_count": 98,
      "outputs": []
    },
    {
      "cell_type": "markdown",
      "source": [
        "# Dividir os dados em treinamento e teste"
      ],
      "metadata": {
        "id": "qYG9b6Iz_mF2"
      }
    },
    {
      "cell_type": "code",
      "source": [
        "X_train, X_test, y_train, y_test = train_test_split(X, y, test_size=0.2, random_state=42)\n"
      ],
      "metadata": {
        "id": "Gkx88rk__-jl"
      },
      "execution_count": 99,
      "outputs": []
    },
    {
      "cell_type": "markdown",
      "source": [],
      "metadata": {
        "id": "Hx0rPOdM_msx"
      }
    },
    {
      "cell_type": "markdown",
      "source": [
        "# Treinar SVM com dados originais"
      ],
      "metadata": {
        "id": "DI4Sj17-_qG4"
      }
    },
    {
      "cell_type": "code",
      "source": [
        "svm_original = SVC()\n",
        "svm_original.fit(X_train, y_train)\n",
        "y_pred_original = svm_original.predict(X_test)"
      ],
      "metadata": {
        "id": "ay1Bq-e0ABSw"
      },
      "execution_count": 100,
      "outputs": []
    },
    {
      "cell_type": "markdown",
      "source": [
        "# Normalizar as características\n"
      ],
      "metadata": {
        "id": "1gZBurNOADRY"
      }
    },
    {
      "cell_type": "code",
      "source": [
        "scaler = StandardScaler()\n",
        "X_train_scaled = scaler.fit_transform(X_train)\n",
        "X_test_scaled = scaler.transform(X_test)\n"
      ],
      "metadata": {
        "id": "987QLOQoAFdy"
      },
      "execution_count": 101,
      "outputs": []
    },
    {
      "cell_type": "markdown",
      "source": [
        "# Treinar SVM com dados normalizados\n"
      ],
      "metadata": {
        "id": "ioYTRGTNAH8F"
      }
    },
    {
      "cell_type": "code",
      "source": [
        "svm_resampled = SVC()\n",
        "svm_resampled.fit(X_train_resampled, y_train_resampled)\n",
        "y_pred_scaled = svm_scaled.predict(X_test_scaled)\n"
      ],
      "metadata": {
        "id": "LDLwTsA1AHAH"
      },
      "execution_count": 102,
      "outputs": []
    },
    {
      "cell_type": "markdown",
      "source": [
        "# Avaliar desempenho com matriz de confusão"
      ],
      "metadata": {
        "id": "G5cf-bQjAPhm"
      }
    },
    {
      "cell_type": "code",
      "source": [
        "cm_original = confusion_matrix(y_test, y_pred_original)\n",
        "cm_scaled = confusion_matrix(y_test, y_pred_scaled)"
      ],
      "metadata": {
        "id": "NLAtOYz5ATDO"
      },
      "execution_count": 103,
      "outputs": []
    },
    {
      "cell_type": "markdown",
      "source": [
        "# Exibir as matrizes de confusão"
      ],
      "metadata": {
        "id": "ci0TZkAzAVN0"
      }
    },
    {
      "cell_type": "code",
      "source": [
        "fig, ax = plt.subplots(1, 2, figsize=(14, 6))\n",
        "\n",
        "sns.heatmap(cm_original, annot=True, fmt='d', cmap='Blues', ax=ax[0])\n",
        "ax[0].set_title('Matriz de Confusão - Dados Originais')\n",
        "ax[0].set_xlabel('Predito')\n",
        "ax[0].set_ylabel('Real')\n",
        "\n",
        "sns.heatmap(cm_scaled, annot=True, fmt='d', cmap='Blues', ax=ax[1])\n",
        "ax[1].set_title('Matriz de Confusão - Dados Normalizados')\n",
        "ax[1].set_xlabel('Predito')\n",
        "ax[1].set_ylabel('Real')\n",
        "\n",
        "plt.show()\n"
      ],
      "metadata": {
        "colab": {
          "base_uri": "https://localhost:8080/",
          "height": 564
        },
        "id": "gsdCaT3OAZji",
        "outputId": "8e20ef21-11b7-4784-917e-c6dd2bc01c73"
      },
      "execution_count": 104,
      "outputs": [
        {
          "output_type": "display_data",
          "data": {
            "text/plain": [
              "<Figure size 1400x600 with 4 Axes>"
            ],
            "image/png": "[encoded data removed]"
          },
          "metadata": {}
        }
      ]
    },
    {
      "cell_type": "markdown",
      "source": [
        "# Exibir relatório de classificação"
      ],
      "metadata": {
        "id": "iddEcorSAaV5"
      }
    },
    {
      "cell_type": "code",
      "source": [
        "print(\"Desempenho com dados originais:\\n\", classification_report(y_test, y_pred_original))\n",
        "print(\"Desempenho com dados normalizados:\\n\", classification_report(y_test, y_pred_scaled))"
      ],
      "metadata": {
        "colab": {
          "base_uri": "https://localhost:8080/"
        },
        "id": "SO11Ji9bAcJV",
        "outputId": "25fc7ce2-494b-422d-993e-917df4272dea"
      },
      "execution_count": 105,
      "outputs": [
        {
          "output_type": "stream",
          "name": "stdout",
          "text": [
            "Desempenho com dados originais:\n",
            "               precision    recall  f1-score   support\n",
            "\n",
            "           0       0.00      0.00      0.00         5\n",
            "           1       0.72      1.00      0.84        13\n",
            "\n",
            "    accuracy                           0.72        18\n",
            "   macro avg       0.36      0.50      0.42        18\n",
            "weighted avg       0.52      0.72      0.61        18\n",
            "\n",
            "Desempenho com dados normalizados:\n",
            "               precision    recall  f1-score   support\n",
            "\n",
            "           0       1.00      0.20      0.33         5\n",
            "           1       0.76      1.00      0.87        13\n",
            "\n",
            "    accuracy                           0.78        18\n",
            "   macro avg       0.88      0.60      0.60        18\n",
            "weighted avg       0.83      0.78      0.72        18\n",
            "\n"
          ]
        },
        {
          "output_type": "stream",
          "name": "stderr",
          "text": [
            "/usr/local/lib/python3.10/dist-packages/sklearn/metrics/_classification.py:1344: UndefinedMetricWarning: Precision and F-score are ill-defined and being set to 0.0 in labels with no predicted samples. Use `zero_division` parameter to control this behavior.\n",
            "  _warn_prf(average, modifier, msg_start, len(result))\n",
            "/usr/local/lib/python3.10/dist-packages/sklearn/metrics/_classification.py:1344: UndefinedMetricWarning: Precision and F-score are ill-defined and being set to 0.0 in labels with no predicted samples. Use `zero_division` parameter to control this behavior.\n",
            "  _warn_prf(average, modifier, msg_start, len(result))\n",
            "/usr/local/lib/python3.10/dist-packages/sklearn/metrics/_classification.py:1344: UndefinedMetricWarning: Precision and F-score are ill-defined and being set to 0.0 in labels with no predicted samples. Use `zero_division` parameter to control this behavior.\n",
            "  _warn_prf(average, modifier, msg_start, len(result))\n"
          ]
        }
      ]
    },
    {
      "cell_type": "markdown",
      "source": [
        "# Acuracia"
      ],
      "metadata": {
        "id": "1LBW2L4kEfIn"
      }
    },
    {
      "cell_type": "code",
      "source": [
        "accuracy_original = accuracy_score(y_test, y_pred_original) * 100\n",
        "print(f\"Acurácia com dados Originais: {accuracy_original:.2f}\")\n",
        "\n",
        "accuracy_processado = accuracy_score(y_test, y_pred_scaled) * 100\n",
        "print(f\"Acurácia com dados processados:{accuracy_processado:.2f}\")"
      ],
      "metadata": {
        "colab": {
          "base_uri": "https://localhost:8080/"
        },
        "id": "zenTxJfFEe1v",
        "outputId": "09ab4612-2795-4981-888b-43b358c2329c"
      },
      "execution_count": 124,
      "outputs": [
        {
          "output_type": "stream",
          "name": "stdout",
          "text": [
            "Acurácia com dados Originais: 72.22\n",
            "Acurácia com dados processados:77.78\n"
          ]
        }
      ]
    }
  ]
}