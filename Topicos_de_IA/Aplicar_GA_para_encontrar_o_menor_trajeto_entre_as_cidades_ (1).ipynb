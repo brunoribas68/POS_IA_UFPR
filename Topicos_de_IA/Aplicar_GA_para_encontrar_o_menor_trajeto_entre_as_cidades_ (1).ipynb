{
  "nbformat": 4,
  "nbformat_minor": 0,
  "metadata": {
    "colab": {
      "provenance": []
    },
    "kernelspec": {
      "name": "python3",
      "display_name": "Python 3"
    },
    "language_info": {
      "name": "python"
    }
  },
  "cells": [
    {
      "cell_type": "markdown",
      "source": [
        "### Professor: Dieval Guizelini\n",
        "### Estudante: Bruno Moreira Ribas"
      ],
      "metadata": {
        "id": "dj36KDpuqnBB"
      }
    },
    {
      "cell_type": "markdown",
      "source": [
        "# Atividade 02: Aplicar GA para encontrar o menor trajeto entre as cidades.\n"
      ],
      "metadata": {
        "id": "TEnLJeMuqoH2"
      }
    },
    {
      "cell_type": "markdown",
      "source": [
        "## Instalação e importação das bibliotecas"
      ],
      "metadata": {
        "id": "Sth2qW88qwko"
      }
    },
    {
      "cell_type": "code",
      "execution_count": 1,
      "metadata": {
        "id": "wETDbO5jqN2t"
      },
      "outputs": [],
      "source": [
        "import random\n",
        "import matplotlib.pyplot as plt\n",
        "import math\n",
        "import cv2"
      ]
    },
    {
      "cell_type": "markdown",
      "source": [
        "## Criação das Variáveis"
      ],
      "metadata": {
        "id": "OXZziGaJrDrq"
      }
    },
    {
      "cell_type": "code",
      "source": [
        "random.seed(5941) # Semente pseudo aleatória\n",
        "num_cities = 100 # Número de cidades\n",
        "cities = [(random.randint(0, 100), random.randint(0, 100)) for i in range(num_cities)] # Posições aleatórias para cidade em um mapa 100X100\n",
        "population_size = 100 # Tamanho da população\n",
        "num_generations = 100000 # Número de gerações\n",
        "crossover_rate = 0.75 # Taxa de crossover (75%)\n",
        "mutation_rate = 0.01 # Taxa de mutação (1%)"
      ],
      "metadata": {
        "id": "LzKwHogCq7tR"
      },
      "execution_count": 2,
      "outputs": []
    },
    {
      "cell_type": "markdown",
      "source": [
        "## Criação de métodos"
      ],
      "metadata": {
        "id": "9pzCkzLHs738"
      }
    },
    {
      "cell_type": "markdown",
      "source": [
        "### Distância entre duas cidades"
      ],
      "metadata": {
        "id": "JPA5L8xps-60"
      }
    },
    {
      "cell_type": "code",
      "source": [
        "def distance(city1, city2):\n",
        "    return math.sqrt(math.pow( city1[0]-city2[0],2) + math.pow(city1[1]-city2[1],2))"
      ],
      "metadata": {
        "id": "2t8FVk3nsf2u"
      },
      "execution_count": 3,
      "outputs": []
    },
    {
      "cell_type": "markdown",
      "source": [
        "### Distância total percorrida em uma rota"
      ],
      "metadata": {
        "id": "3UI9Bo0ftVyT"
      }
    },
    {
      "cell_type": "code",
      "source": [
        "def total_distance(route):\n",
        "    return sum(distance(cities[route[i]], cities[route[i+1]]) for i in range(num_cities-1)) + distance(cities[route[num_cities-1]], cities[route[0]])"
      ],
      "metadata": {
        "id": "fZoLeaQ9tU_2"
      },
      "execution_count": 4,
      "outputs": []
    },
    {
      "cell_type": "markdown",
      "source": [
        "## Inverso da distância de uma rota"
      ],
      "metadata": {
        "id": "KgFjgtUKt7uL"
      }
    },
    {
      "cell_type": "code",
      "source": [
        "def fitness(route):\n",
        "  return 1 / total_distance(route)"
      ],
      "metadata": {
        "id": "3GIkiEGWtT_X"
      },
      "execution_count": 5,
      "outputs": []
    },
    {
      "cell_type": "markdown",
      "source": [
        "## Ordena a população pelo fitness decrescente (inverso) e seleciona 50%"
      ],
      "metadata": {
        "id": "1sN22EDtu4FY"
      }
    },
    {
      "cell_type": "code",
      "source": [
        "def selection(cities):\n",
        "    fitness_scores = [fitness(individual) for individual in population]\n",
        "    scored_population = list(zip(population, fitness_scores))\n",
        "    scored_population.sort(key=lambda x: x[1], reverse=True)\n",
        "    selected = [individual for individual, score in scored_population[:population_size//2]]\n",
        "    return selected"
      ],
      "metadata": {
        "id": "ZUtRuLOCuLfU"
      },
      "execution_count": 6,
      "outputs": []
    },
    {
      "cell_type": "markdown",
      "source": [
        "## Crossover com corte aleatório"
      ],
      "metadata": {
        "id": "gyX3C4v5vrLq"
      }
    },
    {
      "cell_type": "code",
      "source": [
        "def crossover(parent1, parent2):\n",
        "    cut = random.randint(0, num_cities-1)\n",
        "    child1 = parent1[:cut] + [city for city in parent2 if city not in parent1[:cut]]\n",
        "    child2 = parent2[:cut] + [city for city in parent1 if city not in parent2[:cut]]\n",
        "    return child1, child2\n"
      ],
      "metadata": {
        "id": "TGCrezCdvo4q"
      },
      "execution_count": 7,
      "outputs": []
    },
    {
      "cell_type": "markdown",
      "source": [
        "## Método de mutação"
      ],
      "metadata": {
        "id": "93-VkPNewBPO"
      }
    },
    {
      "cell_type": "code",
      "source": [
        "def mutation(route):\n",
        "    position_random = 2\n",
        "    i, j = random.sample(range(num_cities), position_random)\n",
        "    route[i], route[j] = route[j], route[i]\n",
        "    return route"
      ],
      "metadata": {
        "id": "abVq1eClv0k6"
      },
      "execution_count": 8,
      "outputs": []
    },
    {
      "cell_type": "markdown",
      "source": [
        "## Aplicação"
      ],
      "metadata": {
        "id": "zlyH-sSfwZsj"
      }
    },
    {
      "cell_type": "code",
      "source": [
        "# Cria a população inicial de soluções aleatórias\n",
        "population = [random.sample(range(num_cities), num_cities) for i in range(population_size)]\n",
        "\n",
        "# Cria Variáveis para Plotagem de Imagens\n",
        "title = []\n",
        "images = []\n",
        "\n",
        "# Executa as gerações do algoritmo genético\n",
        "for generation in range(num_generations):\n",
        "    # Seleciona as soluções mais aptas\n",
        "    selected = selection(population)\n",
        "    # Cria a nova população com os filhos do crossover\n",
        "    new_population = []\n",
        "    while len(new_population) < population_size - len(selected):\n",
        "        # Seleciona dois pais aleatórios\n",
        "        parent1, parent2 = random.sample(selected, 2)\n",
        "        # Verifica se realiza o crossover com base na taxa definida\n",
        "        if random.random() < crossover_rate:\n",
        "            # Realiza o crossover\n",
        "            child1, child2 = crossover(parent1, parent2)\n",
        "            # Adiciona os filhos à nova população\n",
        "            new_population.append(child1)\n",
        "            new_population.append(child2)\n",
        "        else:\n",
        "            # Adiciona os pais à nova população (sem crossover)\n",
        "            new_population.append(parent1)\n",
        "            new_population.append(parent2)\n",
        "    # Adiciona os filhos e os melhores indivíduos selecionados à nova população\n",
        "    new_population += selected\n",
        "    # Realiza a mutação em cada indivíduo da nova população com base na taxa definida\n",
        "    for i in range(population_size):\n",
        "        if random.random() < mutation_rate:\n",
        "            new_population[i] = mutation(new_population[i])\n",
        "    # Atualiza a população\n",
        "    population = new_population\n",
        "    # Exibe o custo da melhor solução encontrada até agora\n",
        "    best_distance = total_distance(selected[0])\n",
        "\n",
        "    if generation % 20000 == 0 or generation+1 == num_generations:\n",
        "\n",
        "      best_route = selected[0]\n",
        "\n",
        "      route_coordinates = [cities[city-1] for city in best_route]\n",
        "\n",
        "      # Traça a rota das cidades\n",
        "      x = [coord[0] for coord in route_coordinates]\n",
        "      y = [coord[1] for coord in route_coordinates]\n",
        "\n",
        "      img = (x,y)\n",
        "\n",
        "      title.append(str(generation)+\" Geração\")\n",
        "      images.append(img)\n",
        "\n",
        "fig = plt.gcf()\n",
        "fig.set_size_inches(18,12)\n",
        "\n",
        "for i in range(len(images) or 6):\n",
        "  plt.subplot(2, 3, i+1)\n",
        "\n",
        "  x,y = images[i]\n",
        "\n",
        "  plt.plot(x,y, 'ro-')\n",
        "  plt.plot(x, y, 'bo')\n",
        "  plt.title(title[i])\n",
        "\n",
        "\n",
        "plt.show()\n",
        "# Exibe a melhor rota encontrada\n",
        "best_route = selected[0]\n",
        "print(\"melhor Rota: \", best_route)\n"
      ],
      "metadata": {
        "id": "VGkJPFVpwW8h"
      },
      "execution_count": null,
      "outputs": []
    },
    {
      "cell_type": "code",
      "source": [],
      "metadata": {
        "id": "tLymC0vKwfIK"
      },
      "execution_count": null,
      "outputs": []
    }
  ]
}